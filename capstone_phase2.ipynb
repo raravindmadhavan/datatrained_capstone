{
 "cells": [
  {
   "cell_type": "markdown",
   "id": "c2563e5c",
   "metadata": {},
   "source": [
    "# Write the SQL queries -Phase 2"
   ]
  },
  {
   "cell_type": "markdown",
   "id": "3b20174d",
   "metadata": {},
   "source": [
    "# Table 1"
   ]
  },
  {
   "cell_type": "markdown",
   "id": "a19fcec8",
   "metadata": {},
   "source": [
    "Sno , Brandname, Category  , Producttype   ,ProductName    ,productcode  ,price  "
   ]
  },
  {
   "cell_type": "markdown",
   "id": "f7ec414e",
   "metadata": {},
   "source": [
    "# 1)      Write a query to Retrieve the Top 20  Most Expensive Products"
   ]
  },
  {
   "cell_type": "raw",
   "id": "3a32bee3",
   "metadata": {},
   "source": [
    "select distinct ProductName from table_1 order by price desc limit 20"
   ]
  },
  {
   "cell_type": "markdown",
   "id": "b9194de8",
   "metadata": {},
   "source": [
    "# 2)      Write a query Calculate the Total Price for Each Category:"
   ]
  },
  {
   "cell_type": "raw",
   "id": "c059f2f1",
   "metadata": {},
   "source": [
    "select category,sum(price) as total_price from table_1 group by category"
   ]
  },
  {
   "cell_type": "markdown",
   "id": "bf3cfadd",
   "metadata": {},
   "source": [
    "# 3)      Write a query to Retrieve Products with a Price Range 2000 to 5000"
   ]
  },
  {
   "cell_type": "raw",
   "id": "5b944a1f",
   "metadata": {},
   "source": [
    "select distinct(ProductName) from table_1 where price>2000 and price<5000"
   ]
  },
  {
   "cell_type": "markdown",
   "id": "544e6ff8",
   "metadata": {},
   "source": [
    "# 4)       Write a query to Calculate the Average Price for Each Brand ."
   ]
  },
  {
   "cell_type": "code",
   "execution_count": null,
   "id": "d3b8222b",
   "metadata": {},
   "outputs": [],
   "source": [
    "select brand,avg(price) as average_price from table_1 group by brand"
   ]
  },
  {
   "cell_type": "markdown",
   "id": "ebc2280a",
   "metadata": {},
   "source": [
    "# 5)       Write a query to find Products with Unique Brand-Category Combinations"
   ]
  },
  {
   "cell_type": "raw",
   "id": "6838e460",
   "metadata": {},
   "source": [
    "select ProductName from table_1 where (brand,category) in (select distinct brand,category from table_1)"
   ]
  },
  {
   "cell_type": "markdown",
   "id": "c163e784",
   "metadata": {},
   "source": [
    "# Table 2 "
   ]
  },
  {
   "cell_type": "markdown",
   "id": "2990f5e7",
   "metadata": {},
   "source": [
    "Sno , color1,color2,color3,color4 ,Weartype , Material type ,reviews"
   ]
  },
  {
   "cell_type": "markdown",
   "id": "d7553283",
   "metadata": {},
   "source": [
    "# 1)      Write a query Order Rows by Material Type in Ascending Order ."
   ]
  },
  {
   "cell_type": "raw",
   "id": "02e8a184",
   "metadata": {},
   "source": [
    "select * from table_2 order by material_type asc"
   ]
  },
  {
   "cell_type": "markdown",
   "id": "18e58943",
   "metadata": {},
   "source": [
    "# 2)      Write a query to Calculate the Average Number of Reviews"
   ]
  },
  {
   "cell_type": "raw",
   "id": "7c532cba",
   "metadata": {},
   "source": [
    "select avg(reviews) as avg_review from table_2"
   ]
  },
  {
   "cell_type": "markdown",
   "id": "f578f877",
   "metadata": {},
   "source": [
    "# 3)    Write a query to Retrieve the Top 30 Most Expensive Products by Weartype:"
   ]
  },
  {
   "cell_type": "code",
   "execution_count": null,
   "id": "945141ea",
   "metadata": {},
   "outputs": [],
   "source": [
    "select t1.ProductName,t2.weartype,t1.price from table_1 t1 join table_2 t2 where t1.SNo=t2.SNo order by t2.weartype,t1.price limit 30"
   ]
  },
  {
   "cell_type": "markdown",
   "id": "22edc149",
   "metadata": {},
   "source": [
    "# 4)      Write a query to Find Products with Similar Colors."
   ]
  },
  {
   "cell_type": "code",
   "execution_count": null,
   "id": "08914d03",
   "metadata": {},
   "outputs": [],
   "source": [
    "select t2.color,string_agg(t1.Sno,',') as product_sim from table_1 t1 join table_2 t2 where t1.SNo=t2.SNo group by t2.color"
   ]
  },
  {
   "cell_type": "markdown",
   "id": "f5357268",
   "metadata": {},
   "source": [
    "# 5)      Write a query to Calculate the Total Price for Each Material Type."
   ]
  },
  {
   "cell_type": "raw",
   "id": "39e1e3d7",
   "metadata": {},
   "source": [
    "select t2.material_type,sum(t1.price) as total_price from table_1 t1 join table_2 t2 where t1.SNo=t2.SNo group by t2.material_type"
   ]
  },
  {
   "cell_type": "markdown",
   "id": "3904001e",
   "metadata": {},
   "source": [
    "# Table 3"
   ]
  },
  {
   "cell_type": "markdown",
   "id": "722074b2",
   "metadata": {},
   "source": [
    "Sno, Size1, Size2, Size3, Size4,  Country of origin, return time ,occasion"
   ]
  },
  {
   "cell_type": "markdown",
   "id": "66a9930d",
   "metadata": {},
   "source": [
    "# 1) Write a query to Order Rows by Return Time in Ascending Order."
   ]
  },
  {
   "cell_type": "code",
   "execution_count": null,
   "id": "b6602f7c",
   "metadata": {},
   "outputs": [],
   "source": [
    "select * from table_3 order by return_time asc"
   ]
  },
  {
   "cell_type": "markdown",
   "id": "7fcecc07",
   "metadata": {},
   "source": [
    "# 2) Write a query to find distinct country of origin ."
   ]
  },
  {
   "cell_type": "raw",
   "id": "6bdf463c",
   "metadata": {},
   "source": [
    "select distinct country from table_3 "
   ]
  },
  {
   "cell_type": "markdown",
   "id": "ea64cbe8",
   "metadata": {},
   "source": [
    "# 3) Write a query to Calculate the Average Return Time by Country of Origin."
   ]
  },
  {
   "cell_type": "raw",
   "id": "79c4327e",
   "metadata": {},
   "source": [
    "select country,avg(return_time) from table_3 group by country"
   ]
  },
  {
   "cell_type": "markdown",
   "id": "47e72a17",
   "metadata": {},
   "source": [
    "# 4) Write a query to Find Occasions with High Return Times."
   ]
  },
  {
   "cell_type": "raw",
   "id": "d88ec4a8",
   "metadata": {},
   "source": [
    "select occasion,max(return_time) from table_3 group by occasion order by max(return_time) desc limit 1"
   ]
  },
  {
   "cell_type": "markdown",
   "id": "32682391",
   "metadata": {},
   "source": [
    "# 5 ) Write a query to Retrieve Products with Multiple Sizes (Size1, Size2, Size3, Size4):"
   ]
  },
  {
   "cell_type": "raw",
   "id": "ad2fd44d",
   "metadata": {},
   "source": [
    "select * from table_3 where case when size1 is not null then 1 else 0 end +\n",
    "case when size2 is not null then 1 else 0 end +\n",
    "case when size3 is not null then 1 else 0 end +\n",
    "case when size4 is not null then 1 else 0 end >1 "
   ]
  },
  {
   "cell_type": "markdown",
   "id": "6f625e12",
   "metadata": {},
   "source": [
    "# JOIN QUERY  using table1,table2 and table3"
   ]
  },
  {
   "cell_type": "markdown",
   "id": "07e5590a",
   "metadata": {},
   "source": [
    "# 1)      Write a query  find Brandname, Category , Producttype ,ProductName  with a listed price greater than the average listed price in table 1."
   ]
  },
  {
   "cell_type": "raw",
   "id": "47e23213",
   "metadata": {},
   "source": [
    "select brandname,category,producttype,productname from table_1 join (select avg(price) as avg_price from table_1) avg_table on table_1.price>avg_table.avg_price"
   ]
  },
  {
   "cell_type": "markdown",
   "id": "3b056b50",
   "metadata": {},
   "source": [
    "# 2) Write a query to list all Brandname, Category , Producttype ,ProductName   along with their corresponding color information from Table2"
   ]
  },
  {
   "cell_type": "code",
   "execution_count": null,
   "id": "ed04ce8a",
   "metadata": {},
   "outputs": [],
   "source": [
    "select t1.brandname,t1.category,t1.producttype,t1.productname,t2.color1,t2.color2,t2.color3,t2.color4 from table_1 t1 join table_2 t2 on t1.Sno=t2.Sno"
   ]
  },
  {
   "cell_type": "markdown",
   "id": "cc63d6f9",
   "metadata": {},
   "source": [
    "# 3)      Write a query to find the average reviews for each Producttype ,ProductName   using table 1 and table 2"
   ]
  },
  {
   "cell_type": "code",
   "execution_count": null,
   "id": "2e4be965",
   "metadata": {},
   "outputs": [],
   "source": [
    "select t1.producttype,t1.productname,avg(t2.review) as avg_review from table_1 t1 join table_2 t2 on t1.Sno=t2.Sno groupby t1.producttype,t1.productname"
   ]
  },
  {
   "cell_type": "markdown",
   "id": "994ddbdd",
   "metadata": {},
   "source": [
    "# 4)     Write a query  to find products with a Product name, material type that matches the most common material type in (use table1 and table 2)"
   ]
  },
  {
   "cell_type": "code",
   "execution_count": null,
   "id": "c632ca44",
   "metadata": {},
   "outputs": [],
   "source": [
    "select t2.material_type,t1.productname from table_1 t1 join \n",
    "table_2 join (select material_type, count(*) AS occurrences\n",
    "from table_2\n",
    "group by material_type\n",
    "order by occurrences desc\n",
    "limit 1) max_material where t1.SNo=t2.SNo and t2.material_type =max_material.material_type ;"
   ]
  },
  {
   "cell_type": "markdown",
   "id": "afd0e03a",
   "metadata": {},
   "source": [
    "# 5)  Write a query   to list all products  Weartype , Material type  along with their corresponding sizes from   (use table 2 and table 3)"
   ]
  },
  {
   "cell_type": "code",
   "execution_count": null,
   "id": "d05d2c9d",
   "metadata": {},
   "outputs": [],
   "source": [
    "select t2.weartype,t2.material_type,t3.size_1.t3.size_2,t3.size_3,t3.size_4 from table_2 join table_3 t3 where t2.Sno=t3.Sno"
   ]
  },
  {
   "cell_type": "markdown",
   "id": "08aa1fad",
   "metadata": {},
   "source": [
    "# 6)Write a query  to find the average return time for each product type (use table1 and table 3)"
   ]
  },
  {
   "cell_type": "code",
   "execution_count": null,
   "id": "9206a4ee",
   "metadata": {},
   "outputs": [],
   "source": [
    "select t2.producttype,avg(t3.return_time) as avg_return_time from table_2 join table_3 t3 where t2.Sno=t3.Sno group by t2.producttype"
   ]
  },
  {
   "cell_type": "markdown",
   "id": "d23d2bc3",
   "metadata": {},
   "source": [
    "# 7 Write a query to find Country of origin, return time ,occasion of each product type .(use table 1 and table 3)"
   ]
  },
  {
   "cell_type": "code",
   "execution_count": null,
   "id": "6bef8208",
   "metadata": {},
   "outputs": [],
   "source": [
    "select t2.producttype,t3.country,t3.return_time,t3.occasion from table_2 join table_3 t3 where t2.Sno=t3.Sno"
   ]
  }
 ],
 "metadata": {
  "kernelspec": {
   "display_name": "Python 3 (ipykernel)",
   "language": "python",
   "name": "python3"
  },
  "language_info": {
   "codemirror_mode": {
    "name": "ipython",
    "version": 3
   },
   "file_extension": ".py",
   "mimetype": "text/x-python",
   "name": "python",
   "nbconvert_exporter": "python",
   "pygments_lexer": "ipython3",
   "version": "3.10.9"
  }
 },
 "nbformat": 4,
 "nbformat_minor": 5
}
