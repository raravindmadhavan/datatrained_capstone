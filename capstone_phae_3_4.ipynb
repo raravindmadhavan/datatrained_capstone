{
 "cells": [
  {
   "cell_type": "code",
   "execution_count": 1,
   "id": "00834837",
   "metadata": {},
   "outputs": [],
   "source": [
    "# Importing all the Required Libraries\n",
    "import pandas as pd\n",
    "import numpy as np\n",
    "import matplotlib.pyplot as plt\n",
    "import seaborn as sns\n",
    "import warnings\n",
    "warnings.filterwarnings('ignore')\n",
    "pd.set_option('display.max_columns',None)\n",
    "import os\n",
    "import math\n",
    "from sklearn.model_selection import train_test_split\n",
    "# Build the Regression / Regressor models\n",
    "import regex as re\n",
    "from sklearn.linear_model import LinearRegression\n",
    "from sklearn.linear_model import Ridge\n",
    "from sklearn import linear_model\n",
    "from sklearn.tree import DecisionTreeRegressor\n",
    "from sklearn.tree import DecisionTreeClassifier\n",
    "from sklearn.ensemble import RandomForestRegressor\n",
    "from sklearn.ensemble import RandomForestClassifier\n",
    "from sklearn.svm import SVR\n",
    "import xgboost as xgb\n",
    "from sklearn.neighbors import KNeighborsRegressor\n",
    "from sklearn.neighbors import KNeighborsClassifier\n",
    "from sklearn.ensemble import ExtraTreesRegressor\n",
    "from sklearn.ensemble import ExtraTreesClassifier\n",
    "from sklearn.ensemble import BaggingRegressor\n",
    "from sklearn.ensemble import BaggingClassifier\n",
    "from sklearn.ensemble import GradientBoostingRegressor\n",
    "from sklearn.ensemble import GradientBoostingClassifier\n",
    "from statsmodels.stats.outliers_influence import variance_inflation_factor\n",
    "from sklearn.preprocessing import LabelEncoder\n",
    "from sklearn.linear_model import LogisticRegression\n",
    "from sklearn.svm import SVC\n",
    "from sklearn.metrics import accuracy_score\n",
    "from sklearn.metrics import precision_score\n",
    "from sklearn.metrics import recall_score\n",
    "from sklearn.metrics import f1_score\n",
    "from sklearn.metrics import roc_auc_score"
   ]
  },
  {
   "cell_type": "markdown",
   "id": "00b83439",
   "metadata": {},
   "source": [
    "# Phase 3&4"
   ]
  },
  {
   "cell_type": "markdown",
   "id": "77952bc6",
   "metadata": {},
   "source": [
    "# Clothing Date Machine Learning Model developement"
   ]
  },
  {
   "cell_type": "markdown",
   "id": "cf251dac",
   "metadata": {},
   "source": [
    "3 different tables table 1 table 2 table 3 were extracted from disparate clothing website sources using webscraping techniques.\n",
    "Now using the tables we will join them together and start with EDA and develop a Machien Learning model to  make predictions of price and occasion."
   ]
  },
  {
   "cell_type": "code",
   "execution_count": 2,
   "id": "67bbc67b",
   "metadata": {},
   "outputs": [
    {
     "data": {
      "text/html": [
       "<div>\n",
       "<style scoped>\n",
       "    .dataframe tbody tr th:only-of-type {\n",
       "        vertical-align: middle;\n",
       "    }\n",
       "\n",
       "    .dataframe tbody tr th {\n",
       "        vertical-align: top;\n",
       "    }\n",
       "\n",
       "    .dataframe thead th {\n",
       "        text-align: right;\n",
       "    }\n",
       "</style>\n",
       "<table border=\"1\" class=\"dataframe\">\n",
       "  <thead>\n",
       "    <tr style=\"text-align: right;\">\n",
       "      <th></th>\n",
       "      <th>SNo</th>\n",
       "      <th>Brandname</th>\n",
       "      <th>Category</th>\n",
       "      <th>Producttype</th>\n",
       "      <th>ProductName</th>\n",
       "      <th>ProductCode</th>\n",
       "      <th>Price</th>\n",
       "    </tr>\n",
       "  </thead>\n",
       "  <tbody>\n",
       "    <tr>\n",
       "      <th>0</th>\n",
       "      <td>1</td>\n",
       "      <td>Monte Carlo</td>\n",
       "      <td>men</td>\n",
       "      <td>polo-t-shirts</td>\n",
       "      <td>Men Grey Stripe Polo Collar Half Sleeve T-Shirt</td>\n",
       "      <td>224064239-1</td>\n",
       "      <td>Rs. 1,695.00</td>\n",
       "    </tr>\n",
       "    <tr>\n",
       "      <th>1</th>\n",
       "      <td>2</td>\n",
       "      <td>Monte Carlo</td>\n",
       "      <td>men</td>\n",
       "      <td>polo-t-shirts</td>\n",
       "      <td>Men Pink Stripe Polo Collar Half Sleeve T-Shirt</td>\n",
       "      <td>224064114-1</td>\n",
       "      <td>Rs. 1,345.00</td>\n",
       "    </tr>\n",
       "    <tr>\n",
       "      <th>2</th>\n",
       "      <td>3</td>\n",
       "      <td>Monte Carlo</td>\n",
       "      <td>men</td>\n",
       "      <td>polo-t-shirts</td>\n",
       "      <td>Men White Stripe Polo Collar Half Sleeve T-Shirt</td>\n",
       "      <td>224064161-1</td>\n",
       "      <td>Rs. 1,490.00</td>\n",
       "    </tr>\n",
       "    <tr>\n",
       "      <th>3</th>\n",
       "      <td>4</td>\n",
       "      <td>Monte Carlo</td>\n",
       "      <td>men</td>\n",
       "      <td>polo-t-shirts</td>\n",
       "      <td>Men Lime Green Solid Polo Collar Half Sleeve T...</td>\n",
       "      <td>22403651-5</td>\n",
       "      <td>Rs. 1,190.00</td>\n",
       "    </tr>\n",
       "    <tr>\n",
       "      <th>4</th>\n",
       "      <td>5</td>\n",
       "      <td>Monte Carlo</td>\n",
       "      <td>men</td>\n",
       "      <td>polo-t-shirts</td>\n",
       "      <td>Men Blue Stripe Polo Collar Half Sleeve T-Shirt</td>\n",
       "      <td>224064150-1</td>\n",
       "      <td>Rs. 1,440.00</td>\n",
       "    </tr>\n",
       "  </tbody>\n",
       "</table>\n",
       "</div>"
      ],
      "text/plain": [
       "   SNo    Brandname Category    Producttype  \\\n",
       "0    1  Monte Carlo      men  polo-t-shirts   \n",
       "1    2  Monte Carlo      men  polo-t-shirts   \n",
       "2    3  Monte Carlo      men  polo-t-shirts   \n",
       "3    4  Monte Carlo      men  polo-t-shirts   \n",
       "4    5  Monte Carlo      men  polo-t-shirts   \n",
       "\n",
       "                                         ProductName  ProductCode  \\\n",
       "0    Men Grey Stripe Polo Collar Half Sleeve T-Shirt  224064239-1   \n",
       "1    Men Pink Stripe Polo Collar Half Sleeve T-Shirt  224064114-1   \n",
       "2   Men White Stripe Polo Collar Half Sleeve T-Shirt  224064161-1   \n",
       "3  Men Lime Green Solid Polo Collar Half Sleeve T...   22403651-5   \n",
       "4    Men Blue Stripe Polo Collar Half Sleeve T-Shirt  224064150-1   \n",
       "\n",
       "          Price  \n",
       "0  Rs. 1,695.00  \n",
       "1  Rs. 1,345.00  \n",
       "2  Rs. 1,490.00  \n",
       "3  Rs. 1,190.00  \n",
       "4  Rs. 1,440.00  "
      ]
     },
     "execution_count": 2,
     "metadata": {},
     "output_type": "execute_result"
    }
   ],
   "source": [
    "# Table1 contains Brandname,category,Producttype,ProductName,ProductCode,Price\n",
    "table1=pd.read_csv(\"Table1.csv\")\n",
    "table1.head()"
   ]
  },
  {
   "cell_type": "code",
   "execution_count": 3,
   "id": "06ef4778",
   "metadata": {},
   "outputs": [],
   "source": [
    "# Replacing boys and girls with Kids and men and women with Men and Women\n",
    "table1['Category'].replace({'men':'Men','women':'Women','boys':'Kids','girls':'Kids'},inplace=True)\n"
   ]
  },
  {
   "cell_type": "code",
   "execution_count": 4,
   "id": "6b35a1ff",
   "metadata": {},
   "outputs": [],
   "source": [
    "# Standardising Price column\n",
    "table1['Price'] = table1['Price'].str.replace(',', '')\n",
    "table1['Price']=table1['Price'].str.extract(r'([0-9]+\\.[0-9]+)').astype(float)\n",
    "table1['Price'] = table1['Price'].apply(lambda x: '{:.2f}'.format(x))"
   ]
  },
  {
   "cell_type": "code",
   "execution_count": 5,
   "id": "ef1c99cf",
   "metadata": {},
   "outputs": [],
   "source": [
    "# Fillna with mean Price\n",
    "table1['Price']=table1['Price'].astype(float)\n",
    "table1['Price'].fillna(math.ceil(table1.Price.mean()),inplace=True)"
   ]
  },
  {
   "cell_type": "code",
   "execution_count": 6,
   "id": "7584cd9c",
   "metadata": {},
   "outputs": [],
   "source": [
    "# Standardising Product Type\n",
    "table1.Producttype.unique()\n",
    "table1['Producttype'].replace({'polo-t-shirts':'Polos and T-shirts','polo-shirts':'Polos and T-shirts',\n",
    "                               'shirts':'Shirts','shorts':'Shorts and Bermuda','sweatshirts':'Sweatshirts','sweater':\n",
    "                               'Sweaters and Cardigans','tops':'Tops','jackets':'Jacket','Kurta Pajama':'Kurta'},inplace=True)\n"
   ]
  },
  {
   "cell_type": "code",
   "execution_count": 7,
   "id": "2a40c2ef",
   "metadata": {},
   "outputs": [
    {
     "data": {
      "text/plain": [
       "SNo            0\n",
       "Brandname      0\n",
       "Category       0\n",
       "Producttype    0\n",
       "ProductName    0\n",
       "ProductCode    0\n",
       "Price          0\n",
       "dtype: int64"
      ]
     },
     "execution_count": 7,
     "metadata": {},
     "output_type": "execute_result"
    }
   ],
   "source": [
    "table1.isna().sum()"
   ]
  },
  {
   "cell_type": "markdown",
   "id": "e8bcd511",
   "metadata": {},
   "source": [
    "No Nulls in table1"
   ]
  },
  {
   "cell_type": "code",
   "execution_count": 8,
   "id": "3b76d9f4",
   "metadata": {},
   "outputs": [
    {
     "data": {
      "text/html": [
       "<div>\n",
       "<style scoped>\n",
       "    .dataframe tbody tr th:only-of-type {\n",
       "        vertical-align: middle;\n",
       "    }\n",
       "\n",
       "    .dataframe tbody tr th {\n",
       "        vertical-align: top;\n",
       "    }\n",
       "\n",
       "    .dataframe thead th {\n",
       "        text-align: right;\n",
       "    }\n",
       "</style>\n",
       "<table border=\"1\" class=\"dataframe\">\n",
       "  <thead>\n",
       "    <tr style=\"text-align: right;\">\n",
       "      <th></th>\n",
       "      <th>SNo</th>\n",
       "      <th>Weartype</th>\n",
       "      <th>Material</th>\n",
       "      <th>color</th>\n",
       "    </tr>\n",
       "  </thead>\n",
       "  <tbody>\n",
       "    <tr>\n",
       "      <th>0</th>\n",
       "      <td>1</td>\n",
       "      <td>Topwear</td>\n",
       "      <td>Cotton Blend</td>\n",
       "      <td>Grey</td>\n",
       "    </tr>\n",
       "    <tr>\n",
       "      <th>1</th>\n",
       "      <td>2</td>\n",
       "      <td>Topwear</td>\n",
       "      <td>Cotton Blend</td>\n",
       "      <td>Pink</td>\n",
       "    </tr>\n",
       "    <tr>\n",
       "      <th>2</th>\n",
       "      <td>3</td>\n",
       "      <td>Topwear</td>\n",
       "      <td>Cotton Blend</td>\n",
       "      <td>White</td>\n",
       "    </tr>\n",
       "    <tr>\n",
       "      <th>3</th>\n",
       "      <td>4</td>\n",
       "      <td>Topwear</td>\n",
       "      <td>Cotton Blend</td>\n",
       "      <td>Lime Green</td>\n",
       "    </tr>\n",
       "    <tr>\n",
       "      <th>4</th>\n",
       "      <td>5</td>\n",
       "      <td>Topwear</td>\n",
       "      <td>Cotton Blend</td>\n",
       "      <td>Blue</td>\n",
       "    </tr>\n",
       "  </tbody>\n",
       "</table>\n",
       "</div>"
      ],
      "text/plain": [
       "   SNo Weartype      Material       color\n",
       "0    1  Topwear  Cotton Blend        Grey\n",
       "1    2  Topwear  Cotton Blend        Pink\n",
       "2    3  Topwear  Cotton Blend       White\n",
       "3    4  Topwear  Cotton Blend  Lime Green\n",
       "4    5  Topwear  Cotton Blend        Blue"
      ]
     },
     "execution_count": 8,
     "metadata": {},
     "output_type": "execute_result"
    }
   ],
   "source": [
    "# Table2 contains Weatype,Material,color\n",
    "table2=pd.read_csv(\"Table2.csv\")\n",
    "table2.head()"
   ]
  },
  {
   "cell_type": "code",
   "execution_count": 9,
   "id": "a00d7f94",
   "metadata": {},
   "outputs": [],
   "source": [
    "table2.isna().sum() # 99 null color\n",
    "# Handling null color\n",
    "table2['color'].fillna(table2['color'].mode()[0],inplace=True)"
   ]
  },
  {
   "cell_type": "code",
   "execution_count": 10,
   "id": "b018b8de",
   "metadata": {},
   "outputs": [
    {
     "data": {
      "text/html": [
       "<div>\n",
       "<style scoped>\n",
       "    .dataframe tbody tr th:only-of-type {\n",
       "        vertical-align: middle;\n",
       "    }\n",
       "\n",
       "    .dataframe tbody tr th {\n",
       "        vertical-align: top;\n",
       "    }\n",
       "\n",
       "    .dataframe thead th {\n",
       "        text-align: right;\n",
       "    }\n",
       "</style>\n",
       "<table border=\"1\" class=\"dataframe\">\n",
       "  <thead>\n",
       "    <tr style=\"text-align: right;\">\n",
       "      <th></th>\n",
       "      <th>SNo</th>\n",
       "      <th>Size</th>\n",
       "      <th>Country</th>\n",
       "      <th>return</th>\n",
       "      <th>Occasion</th>\n",
       "    </tr>\n",
       "  </thead>\n",
       "  <tbody>\n",
       "    <tr>\n",
       "      <th>0</th>\n",
       "      <td>1</td>\n",
       "      <td>36/S,38/M,40/L,42/XL,44/XXL,46/3XL</td>\n",
       "      <td>India</td>\n",
       "      <td>7 days</td>\n",
       "      <td>Casual</td>\n",
       "    </tr>\n",
       "    <tr>\n",
       "      <th>1</th>\n",
       "      <td>2</td>\n",
       "      <td>36/S,38/M,40/L,42/XL,44/XXL,46/3XL</td>\n",
       "      <td>India</td>\n",
       "      <td>7 days</td>\n",
       "      <td>Casual</td>\n",
       "    </tr>\n",
       "    <tr>\n",
       "      <th>2</th>\n",
       "      <td>3</td>\n",
       "      <td>36/S,38/M,40/L,42/XL,44/XXL,46/3XL</td>\n",
       "      <td>India</td>\n",
       "      <td>7 days</td>\n",
       "      <td>Casual</td>\n",
       "    </tr>\n",
       "    <tr>\n",
       "      <th>3</th>\n",
       "      <td>4</td>\n",
       "      <td>36/S,38/M,40/L,42/XL,44/XXL,46/3XL</td>\n",
       "      <td>India</td>\n",
       "      <td>7 days</td>\n",
       "      <td>Casual</td>\n",
       "    </tr>\n",
       "    <tr>\n",
       "      <th>4</th>\n",
       "      <td>5</td>\n",
       "      <td>36/S,38/M,40/L,42/XL,44/XXL,46/3XL</td>\n",
       "      <td>India</td>\n",
       "      <td>7 days</td>\n",
       "      <td>Casual</td>\n",
       "    </tr>\n",
       "  </tbody>\n",
       "</table>\n",
       "</div>"
      ],
      "text/plain": [
       "   SNo                                Size Country  return Occasion\n",
       "0    1  36/S,38/M,40/L,42/XL,44/XXL,46/3XL   India  7 days   Casual\n",
       "1    2  36/S,38/M,40/L,42/XL,44/XXL,46/3XL   India  7 days   Casual\n",
       "2    3  36/S,38/M,40/L,42/XL,44/XXL,46/3XL   India  7 days   Casual\n",
       "3    4  36/S,38/M,40/L,42/XL,44/XXL,46/3XL   India  7 days   Casual\n",
       "4    5  36/S,38/M,40/L,42/XL,44/XXL,46/3XL   India  7 days   Casual"
      ]
     },
     "execution_count": 10,
     "metadata": {},
     "output_type": "execute_result"
    }
   ],
   "source": [
    "# Table2 contains Size,Country,return,Occasion\n",
    "table3=pd.read_csv(\"Table3.csv\")\n",
    "table3.head()"
   ]
  },
  {
   "cell_type": "code",
   "execution_count": 11,
   "id": "42b1a127",
   "metadata": {},
   "outputs": [
    {
     "data": {
      "text/plain": [
       "array(['7 days', '15 days', '30', '15'], dtype=object)"
      ]
     },
     "execution_count": 11,
     "metadata": {},
     "output_type": "execute_result"
    }
   ],
   "source": [
    "table3['return'].unique()"
   ]
  },
  {
   "cell_type": "code",
   "execution_count": 12,
   "id": "5fc1582c",
   "metadata": {},
   "outputs": [],
   "source": [
    "table3['return'].replace({'7 days':'7','15 days':'15'},inplace=True)"
   ]
  },
  {
   "cell_type": "code",
   "execution_count": 13,
   "id": "0021cf1a",
   "metadata": {},
   "outputs": [],
   "source": [
    "table= pd.merge(table1, table2,on='SNo')\n",
    "table_df=pd.merge(table, table3,on='SNo')\n",
    "table_df.head()\n",
    "table_df['Country'].replace({'INDIA':'India'},inplace=True)"
   ]
  },
  {
   "cell_type": "markdown",
   "id": "c58c19c8",
   "metadata": {},
   "source": [
    "# Exploratory Data Analysis"
   ]
  },
  {
   "cell_type": "code",
   "execution_count": 14,
   "id": "43dd74fd",
   "metadata": {},
   "outputs": [
    {
     "data": {
      "text/plain": [
       "<Axes: title={'center': 'Frequency of Price'}, xlabel='Price', ylabel='Count'>"
      ]
     },
     "execution_count": 14,
     "metadata": {},
     "output_type": "execute_result"
    },
    {
     "data": {
      "image/png": "[encoded data removed]",
      "text/plain": [
       "<Figure size 1000x1000 with 1 Axes>"
      ]
     },
     "metadata": {},
     "output_type": "display_data"
    }
   ],
   "source": [
    "plt.figure(figsize=(10,10))\n",
    "plt.subplot(1,1,1)\n",
    "plt.title('Frequency of Price')\n",
    "sns.histplot(table_df['Price'],bins=10)"
   ]
  },
  {
   "cell_type": "markdown",
   "id": "8d2d9aec",
   "metadata": {},
   "source": [
    "# The data has more items priced 0-2500 rupees."
   ]
  },
  {
   "cell_type": "code",
   "execution_count": 16,
   "id": "9ee9ce1a",
   "metadata": {},
   "outputs": [
    {
     "data": {
      "text/plain": [
       "<Axes: >"
      ]
     },
     "execution_count": 16,
     "metadata": {},
     "output_type": "execute_result"
    },
    {
     "data": {
      "image/png": "[encoded data removed]",
      "text/plain": [
       "<Figure size 1500x2000 with 4 Axes>"
      ]
     },
     "metadata": {},
     "output_type": "display_data"
    }
   ],
   "source": [
    "plt.figure(figsize=(15,20))\n",
    "plt.subplot(2,2,1)\n",
    "table_df['Brandname'].value_counts().plot.bar()\n",
    "plt.title('Brand Name Distribution')\n",
    "plt.subplot(2,2,2)\n",
    "table_df['Category'].value_counts().plot.bar()\n",
    "plt.title('Category Distribution')\n",
    "plt.subplot(2,2,3)\n",
    "table_df['Weartype'].value_counts().plot.bar()\n",
    "plt.title('Weartype Distribution')\n",
    "plt.subplot(2,2,4)\n",
    "table_df['Country'].value_counts().plot.bar()"
   ]
  },
  {
   "cell_type": "markdown",
   "id": "cfb504c3",
   "metadata": {},
   "source": [
    "# More data for Monte Carlo brand,Men category topwear weartype,India country of origin "
   ]
  },
  {
   "cell_type": "code",
   "execution_count": 17,
   "id": "4adda1f9",
   "metadata": {},
   "outputs": [
    {
     "data": {
      "text/plain": [
       "Text(0.5, 1.0, 'Occasion Distribution')"
      ]
     },
     "execution_count": 17,
     "metadata": {},
     "output_type": "execute_result"
    },
    {
     "data": {
      "image/png": "[encoded data removed]",
      "text/plain": [
       "<Figure size 1500x2000 with 2 Axes>"
      ]
     },
     "metadata": {},
     "output_type": "display_data"
    }
   ],
   "source": [
    "plt.figure(figsize=(15,20))\n",
    "plt.subplot(1,2,1)\n",
    "table_df['return'].value_counts().plot.bar()\n",
    "plt.title('Return Time Distribution')\n",
    "plt.subplot(1,2,2)\n",
    "table_df['Occasion'].value_counts().plot.bar()\n",
    "plt.title('Occasion Distribution')"
   ]
  },
  {
   "cell_type": "markdown",
   "id": "79398b05",
   "metadata": {},
   "source": [
    "# More data with Casual, 7days return time"
   ]
  },
  {
   "cell_type": "markdown",
   "id": "ec08672d",
   "metadata": {},
   "source": [
    "# Preprocessing"
   ]
  },
  {
   "cell_type": "code",
   "execution_count": 18,
   "id": "5d80eba3",
   "metadata": {},
   "outputs": [],
   "source": [
    "le=LabelEncoder()\n",
    "for col in table_df.columns:\n",
    "    if table_df[col].dtype=='object':\n",
    "         table_df[col]=le.fit_transform(table_df[col])"
   ]
  },
  {
   "cell_type": "markdown",
   "id": "58f4b183",
   "metadata": {},
   "source": [
    "# Price Prediction"
   ]
  },
  {
   "cell_type": "code",
   "execution_count": 20,
   "id": "f331434c",
   "metadata": {},
   "outputs": [
    {
     "data": {
      "text/plain": [
       "((1290, 13), (554, 13), (1290,), (554,))"
      ]
     },
     "execution_count": 20,
     "metadata": {},
     "output_type": "execute_result"
    }
   ],
   "source": [
    "# storing the Dependent Variables in X and Independent Variable in Y\n",
    "x=table_df.drop(['Price'],axis=1)\n",
    "y=table_df['Price']\n",
    "x_reg_train,x_reg_test,y_reg_train,y_reg_test=train_test_split(x,y,test_size=0.30,random_state=42)\n",
    "x_reg_train.shape,x_reg_test.shape,y_reg_train.shape,y_reg_test.shape"
   ]
  },
  {
   "cell_type": "code",
   "execution_count": 21,
   "id": "8fb39c56",
   "metadata": {},
   "outputs": [],
   "source": [
    "# Scaling the values to convert the int values to Machine Languages\n",
    "from sklearn.preprocessing import MinMaxScaler\n",
    "mmscaler=MinMaxScaler(feature_range=(0,1))\n",
    "x_reg_train=mmscaler.fit_transform(x_reg_train)\n",
    "x_reg_test=mmscaler.fit_transform(x_reg_test)\n",
    "x_reg_train=pd.DataFrame(x_reg_train)\n",
    "x_reg_test=pd.DataFrame(x_reg_test)"
   ]
  },
  {
   "cell_type": "code",
   "execution_count": 22,
   "id": "10cee1c6",
   "metadata": {},
   "outputs": [
    {
     "data": {
      "text/html": [
       "<div>\n",
       "<style scoped>\n",
       "    .dataframe tbody tr th:only-of-type {\n",
       "        vertical-align: middle;\n",
       "    }\n",
       "\n",
       "    .dataframe tbody tr th {\n",
       "        vertical-align: top;\n",
       "    }\n",
       "\n",
       "    .dataframe thead th {\n",
       "        text-align: right;\n",
       "    }\n",
       "</style>\n",
       "<table border=\"1\" class=\"dataframe\">\n",
       "  <thead>\n",
       "    <tr style=\"text-align: right;\">\n",
       "      <th></th>\n",
       "      <th>Model Name</th>\n",
       "      <th>Mean_Absolute_Error_MAE</th>\n",
       "      <th>Adj_R_Square</th>\n",
       "      <th>Root_Mean_Squared_Error_RMSE</th>\n",
       "      <th>Mean_Absolute_Percentage_Error_MAPE</th>\n",
       "      <th>Mean_Squared_Error_MSE</th>\n",
       "      <th>Root_Mean_Squared_Log_Error_RMSLE</th>\n",
       "      <th>R2_score</th>\n",
       "    </tr>\n",
       "  </thead>\n",
       "  <tbody>\n",
       "  </tbody>\n",
       "</table>\n",
       "</div>"
      ],
      "text/plain": [
       "Empty DataFrame\n",
       "Columns: [Model Name, Mean_Absolute_Error_MAE, Adj_R_Square, Root_Mean_Squared_Error_RMSE, Mean_Absolute_Percentage_Error_MAPE, Mean_Squared_Error_MSE, Root_Mean_Squared_Log_Error_RMSLE, R2_score]\n",
       "Index: []"
      ]
     },
     "execution_count": 22,
     "metadata": {},
     "output_type": "execute_result"
    }
   ],
   "source": [
    "a={'Model Name':[], 'Mean_Absolute_Error_MAE':[] ,'Adj_R_Square':[] ,'Root_Mean_Squared_Error_RMSE':[] ,'Mean_Absolute_Percentage_Error_MAPE':[] ,'Mean_Squared_Error_MSE':[] ,'Root_Mean_Squared_Log_Error_RMSLE':[] ,'R2_score':[]}\n",
    "Results=pd.DataFrame(a)\n",
    "Results.head()"
   ]
  },
  {
   "cell_type": "code",
   "execution_count": 23,
   "id": "156b9e95",
   "metadata": {},
   "outputs": [],
   "source": [
    "# Create objects of Regression / Regressor models with default hyper-parameters\n",
    "\n",
    "modelmlg = LinearRegression()\n",
    "modeldcr = DecisionTreeRegressor()\n",
    "modelbag = BaggingRegressor()\n",
    "modelrfr = RandomForestRegressor()\n",
    "modelSVR = SVR()\n",
    "modelXGR = xgb.XGBRegressor()\n",
    "modelKNN = KNeighborsRegressor(n_neighbors=5)\n",
    "modelETR = ExtraTreesRegressor()\n",
    "modelRE=Ridge()\n",
    "modelLO=linear_model.Lasso(alpha=0.1)\n",
    "\n",
    "modelGBR = GradientBoostingRegressor(loss='squared_error', learning_rate=0.1, n_estimators=100, subsample=1.0,\n",
    "                                     criterion='friedman_mse', min_samples_split=2, min_samples_leaf=1,\n",
    "                                     min_weight_fraction_leaf=0.0, max_depth=3, min_impurity_decrease=0.0,\n",
    "                                     init=None, random_state=None, max_features=None,\n",
    "                                     alpha=0.9, verbose=0, max_leaf_nodes=None, warm_start=False,\n",
    "                                     validation_fraction=0.1, n_iter_no_change=None, tol=0.0001, ccp_alpha=0.0)"
   ]
  },
  {
   "cell_type": "code",
   "execution_count": 24,
   "id": "5c98da6a",
   "metadata": {},
   "outputs": [
    {
     "name": "stdout",
     "output_type": "stream",
     "text": [
      "Model Name:  LinearRegression()\n",
      "Mean Absolute Error (MAE): 1017.612\n",
      "Mean Squared Error (MSE): 2517219.168\n",
      "Root Mean Squared Error (RMSE): 1586.575\n",
      "R2_score: 0.392737\n",
      "Root Mean Squared Log Error (RMSLE): 7.369\n",
      "Mean Absolute Percentage Error (MAPE): 46.42 %\n",
      "Adj R Square:  0.388423\n",
      "------------------------------------------------------------------------------------------------------------\n",
      "Model Name:  DecisionTreeRegressor()\n",
      "Mean Absolute Error (MAE): 321.057\n",
      "Mean Squared Error (MSE): 588105.816\n",
      "Root Mean Squared Error (RMSE): 766.881\n",
      "R2_score: 0.858123\n",
      "Root Mean Squared Log Error (RMSLE): 6.642\n",
      "Mean Absolute Percentage Error (MAPE): 12.04 %\n",
      "Adj R Square:  0.857115\n",
      "------------------------------------------------------------------------------------------------------------\n",
      "Model Name:  RandomForestRegressor()\n",
      "Mean Absolute Error (MAE): 265.938\n",
      "Mean Squared Error (MSE): 242718.495\n",
      "Root Mean Squared Error (RMSE): 492.665\n",
      "R2_score: 0.941446\n",
      "Root Mean Squared Log Error (RMSLE): 6.2\n",
      "Mean Absolute Percentage Error (MAPE): 10.44 %\n",
      "Adj R Square:  0.94103\n",
      "------------------------------------------------------------------------------------------------------------\n",
      "Model Name:  KNeighborsRegressor()\n",
      "Mean Absolute Error (MAE): 562.36\n",
      "Mean Squared Error (MSE): 1581716.448\n",
      "Root Mean Squared Error (RMSE): 1257.663\n",
      "R2_score: 0.618421\n",
      "Root Mean Squared Log Error (RMSLE): 7.137\n",
      "Mean Absolute Percentage Error (MAPE): 19.21 %\n",
      "Adj R Square:  0.61571\n",
      "------------------------------------------------------------------------------------------------------------\n",
      "Model Name:  ExtraTreesRegressor()\n",
      "Mean Absolute Error (MAE): 216.006\n",
      "Mean Squared Error (MSE): 155293.507\n",
      "Root Mean Squared Error (RMSE): 394.073\n",
      "R2_score: 0.962536\n",
      "Root Mean Squared Log Error (RMSLE): 5.977\n",
      "Mean Absolute Percentage Error (MAPE): 9.11 %\n",
      "Adj R Square:  0.96227\n",
      "------------------------------------------------------------------------------------------------------------\n",
      "Model Name:  GradientBoostingRegressor()\n",
      "Mean Absolute Error (MAE): 412.226\n",
      "Mean Squared Error (MSE): 384492.83\n",
      "Root Mean Squared Error (RMSE): 620.075\n",
      "R2_score: 0.907244\n",
      "Root Mean Squared Log Error (RMSLE): 6.43\n",
      "Mean Absolute Percentage Error (MAPE): 19.31 %\n",
      "Adj R Square:  0.906585\n",
      "------------------------------------------------------------------------------------------------------------\n",
      "Model Name:  XGBRegressor(base_score=None, booster=None, callbacks=None,\n",
      "             colsample_bylevel=None, colsample_bynode=None,\n",
      "             colsample_bytree=None, device=None, early_stopping_rounds=None,\n",
      "             enable_categorical=False, eval_metric=None, feature_types=None,\n",
      "             gamma=None, grow_policy=None, importance_type=None,\n",
      "             interaction_constraints=None, learning_rate=None, max_bin=None,\n",
      "             max_cat_threshold=None, max_cat_to_onehot=None,\n",
      "             max_delta_step=None, max_depth=None, max_leaves=None,\n",
      "             min_child_weight=None, missing=nan, monotone_constraints=None,\n",
      "             multi_strategy=None, n_estimators=None, n_jobs=None,\n",
      "             num_parallel_tree=None, random_state=None, ...)\n",
      "Mean Absolute Error (MAE): 274.738\n",
      "Mean Squared Error (MSE): 269915.048\n",
      "Root Mean Squared Error (RMSE): 519.533\n",
      "R2_score: 0.934885\n",
      "Root Mean Squared Log Error (RMSLE): 6.253\n",
      "Mean Absolute Percentage Error (MAPE): 11.28 %\n",
      "Adj R Square:  0.934422\n",
      "------------------------------------------------------------------------------------------------------------\n",
      "Model Name:  BaggingRegressor()\n",
      "Mean Absolute Error (MAE): 286.581\n",
      "Mean Squared Error (MSE): 270390.051\n",
      "Root Mean Squared Error (RMSE): 519.99\n",
      "R2_score: 0.93477\n",
      "Root Mean Squared Log Error (RMSLE): 6.254\n",
      "Mean Absolute Percentage Error (MAPE): 11.06 %\n",
      "Adj R Square:  0.934307\n",
      "------------------------------------------------------------------------------------------------------------\n",
      "Model Name:  Ridge()\n",
      "Mean Absolute Error (MAE): 1012.767\n",
      "Mean Squared Error (MSE): 2513665.269\n",
      "Root Mean Squared Error (RMSE): 1585.454\n",
      "R2_score: 0.393594\n",
      "Root Mean Squared Log Error (RMSLE): 7.369\n",
      "Mean Absolute Percentage Error (MAPE): 46.04 %\n",
      "Adj R Square:  0.389286\n",
      "------------------------------------------------------------------------------------------------------------\n",
      "Model Name:  Lasso(alpha=0.1)\n",
      "Mean Absolute Error (MAE): 1017.266\n",
      "Mean Squared Error (MSE): 2516697.966\n",
      "Root Mean Squared Error (RMSE): 1586.41\n",
      "R2_score: 0.392863\n",
      "Root Mean Squared Log Error (RMSLE): 7.369\n",
      "Mean Absolute Percentage Error (MAPE): 46.39 %\n",
      "Adj R Square:  0.38855\n",
      "------------------------------------------------------------------------------------------------------------\n"
     ]
    }
   ],
   "source": [
    "# Evalution matrix for all the algorithms\n",
    "\n",
    "MM = [modelmlg, modeldcr, modelrfr, modelKNN, modelETR, modelGBR, modelXGR, modelbag,modelRE,modelLO]\n",
    "\n",
    "for models in MM:\n",
    "    \n",
    "    # Fit the model with train data\n",
    "    \n",
    "    models.fit(x_reg_train, y_reg_train)\n",
    "    \n",
    "    # Predict the model with test data\n",
    "\n",
    "    y_reg_pred = models.predict(x_reg_test)\n",
    "    \n",
    "    # Print the model name\n",
    "    \n",
    "    print('Model Name: ', models)\n",
    "    \n",
    "    # Evaluation metrics for Regression analysis\n",
    "    from sklearn import metrics\n",
    "\n",
    "    print('Mean Absolute Error (MAE):', round(metrics.mean_absolute_error(y_reg_test, y_reg_pred),3))  \n",
    "    print('Mean Squared Error (MSE):', round(metrics.mean_squared_error(y_reg_test, y_reg_pred),3))  \n",
    "    print('Root Mean Squared Error (RMSE):', round(np.sqrt(metrics.mean_squared_error(y_reg_test, y_reg_pred)),3))\n",
    "    print('R2_score:', round(metrics.r2_score(y_reg_test, y_reg_pred),6))\n",
    "    print('Root Mean Squared Log Error (RMSLE):', round(np.log(np.sqrt(metrics.mean_squared_error(y_reg_test, y_reg_pred))),3))\n",
    "    \n",
    "    # Define the function to calculate the MAPE - Mean Absolute Percentage Error\n",
    "\n",
    "    def MAPE (y_reg_test, y_reg_pred):\n",
    "        y_reg_test, y_reg_pred = np.array(y_reg_test), np.array(y_reg_pred)\n",
    "        return np.mean(np.abs((y_reg_test - y_reg_pred) / y_reg_test)) * 100\n",
    "    \n",
    "    # Evaluation of MAPE \n",
    "    result = MAPE(y_reg_test, y_reg_pred)\n",
    "    print('Mean Absolute Percentage Error (MAPE):', round(result, 2), '%')\n",
    "    \n",
    "    # Calculate Adjusted R squared values \n",
    "\n",
    "    r_squared = round(metrics.r2_score(y_reg_test, y_reg_pred),6)\n",
    "    adjusted_r_squared = round(1 - (1-r_squared)*(len(y)-1)/(len(y)-x.shape[1]-1),6)\n",
    "    print('Adj R Square: ', adjusted_r_squared)\n",
    "    print('------------------------------------------------------------------------------------------------------------')\n",
    "    new_row = {'Model Name' : models,\n",
    "               'Mean_Absolute_Error_MAE' : metrics.mean_absolute_error(y_reg_test, y_reg_pred),\n",
    "               'Adj_R_Square' : adjusted_r_squared,\n",
    "               'Root_Mean_Squared_Error_RMSE' : np.sqrt(metrics.mean_squared_error(y_reg_test, y_reg_pred)),\n",
    "               'Mean_Absolute_Percentage_Error_MAPE' : result,\n",
    "               'Mean_Squared_Error_MSE' : metrics.mean_squared_error(y_reg_test, y_reg_pred),\n",
    "               'Root_Mean_Squared_Log_Error_RMSLE': np.log(np.sqrt(metrics.mean_squared_error(y_reg_test, y_reg_pred))),\n",
    "               'R2_score' : metrics.r2_score(y_reg_test, y_reg_pred)}\n",
    "    Results = Results.append(new_row, ignore_index=True)\n",
    "    #------------------------------------------------------------"
   ]
  },
  {
   "cell_type": "code",
   "execution_count": 25,
   "id": "7eae8a77",
   "metadata": {},
   "outputs": [
    {
     "data": {
      "text/html": [
       "<div>\n",
       "<style scoped>\n",
       "    .dataframe tbody tr th:only-of-type {\n",
       "        vertical-align: middle;\n",
       "    }\n",
       "\n",
       "    .dataframe tbody tr th {\n",
       "        vertical-align: top;\n",
       "    }\n",
       "\n",
       "    .dataframe thead th {\n",
       "        text-align: right;\n",
       "    }\n",
       "</style>\n",
       "<table border=\"1\" class=\"dataframe\">\n",
       "  <thead>\n",
       "    <tr style=\"text-align: right;\">\n",
       "      <th></th>\n",
       "      <th>Model_Name</th>\n",
       "      <th>Adj_R_Square</th>\n",
       "      <th>Mean_Absolute_Error_MAE</th>\n",
       "      <th>Root_Mean_Squared_Error_RMSE</th>\n",
       "      <th>Mean_Absolute_Percentage_Error_MAPE</th>\n",
       "      <th>Mean_Squared_Error_MSE</th>\n",
       "      <th>Root_Mean_Squared_Log_Error_RMSLE</th>\n",
       "      <th>R2_score</th>\n",
       "    </tr>\n",
       "  </thead>\n",
       "  <tbody>\n",
       "    <tr>\n",
       "      <th>0</th>\n",
       "      <td>ExtraTreesRegressor</td>\n",
       "      <td>0.962270</td>\n",
       "      <td>216.006128</td>\n",
       "      <td>394.072972</td>\n",
       "      <td>9.111512</td>\n",
       "      <td>1.552935e+05</td>\n",
       "      <td>5.976536</td>\n",
       "      <td>0.962536</td>\n",
       "    </tr>\n",
       "    <tr>\n",
       "      <th>1</th>\n",
       "      <td>RandomForestRegressor</td>\n",
       "      <td>0.941030</td>\n",
       "      <td>265.938132</td>\n",
       "      <td>492.664688</td>\n",
       "      <td>10.439813</td>\n",
       "      <td>2.427185e+05</td>\n",
       "      <td>6.199829</td>\n",
       "      <td>0.941446</td>\n",
       "    </tr>\n",
       "    <tr>\n",
       "      <th>2</th>\n",
       "      <td>XGBRegressor</td>\n",
       "      <td>0.934422</td>\n",
       "      <td>274.737777</td>\n",
       "      <td>519.533490</td>\n",
       "      <td>11.277548</td>\n",
       "      <td>2.699150e+05</td>\n",
       "      <td>6.252931</td>\n",
       "      <td>0.934885</td>\n",
       "    </tr>\n",
       "    <tr>\n",
       "      <th>3</th>\n",
       "      <td>BaggingRegressor</td>\n",
       "      <td>0.934307</td>\n",
       "      <td>286.581318</td>\n",
       "      <td>519.990433</td>\n",
       "      <td>11.061807</td>\n",
       "      <td>2.703901e+05</td>\n",
       "      <td>6.253810</td>\n",
       "      <td>0.934770</td>\n",
       "    </tr>\n",
       "    <tr>\n",
       "      <th>4</th>\n",
       "      <td>GradientBoostingRegressor</td>\n",
       "      <td>0.906585</td>\n",
       "      <td>412.226055</td>\n",
       "      <td>620.074859</td>\n",
       "      <td>19.305657</td>\n",
       "      <td>3.844928e+05</td>\n",
       "      <td>6.429840</td>\n",
       "      <td>0.907244</td>\n",
       "    </tr>\n",
       "    <tr>\n",
       "      <th>5</th>\n",
       "      <td>DecisionTreeRegressor</td>\n",
       "      <td>0.857115</td>\n",
       "      <td>321.056859</td>\n",
       "      <td>766.880575</td>\n",
       "      <td>12.039672</td>\n",
       "      <td>5.881058e+05</td>\n",
       "      <td>6.642331</td>\n",
       "      <td>0.858123</td>\n",
       "    </tr>\n",
       "    <tr>\n",
       "      <th>6</th>\n",
       "      <td>KNeighborsRegressor</td>\n",
       "      <td>0.615710</td>\n",
       "      <td>562.360289</td>\n",
       "      <td>1257.663090</td>\n",
       "      <td>19.214741</td>\n",
       "      <td>1.581716e+06</td>\n",
       "      <td>7.137011</td>\n",
       "      <td>0.618421</td>\n",
       "    </tr>\n",
       "    <tr>\n",
       "      <th>7</th>\n",
       "      <td>Ridge Regression</td>\n",
       "      <td>0.389286</td>\n",
       "      <td>1012.767163</td>\n",
       "      <td>1585.454278</td>\n",
       "      <td>46.042260</td>\n",
       "      <td>2.513665e+06</td>\n",
       "      <td>7.368626</td>\n",
       "      <td>0.393594</td>\n",
       "    </tr>\n",
       "    <tr>\n",
       "      <th>8</th>\n",
       "      <td>Lasso Regression</td>\n",
       "      <td>0.388550</td>\n",
       "      <td>1017.265693</td>\n",
       "      <td>1586.410403</td>\n",
       "      <td>46.394091</td>\n",
       "      <td>2.516698e+06</td>\n",
       "      <td>7.369229</td>\n",
       "      <td>0.392863</td>\n",
       "    </tr>\n",
       "    <tr>\n",
       "      <th>9</th>\n",
       "      <td>LinearRegression</td>\n",
       "      <td>0.388423</td>\n",
       "      <td>1017.612340</td>\n",
       "      <td>1586.574665</td>\n",
       "      <td>46.416187</td>\n",
       "      <td>2.517219e+06</td>\n",
       "      <td>7.369333</td>\n",
       "      <td>0.392737</td>\n",
       "    </tr>\n",
       "  </tbody>\n",
       "</table>\n",
       "</div>"
      ],
      "text/plain": [
       "                  Model_Name  Adj_R_Square  Mean_Absolute_Error_MAE  \\\n",
       "0        ExtraTreesRegressor      0.962270               216.006128   \n",
       "1      RandomForestRegressor      0.941030               265.938132   \n",
       "2               XGBRegressor      0.934422               274.737777   \n",
       "3           BaggingRegressor      0.934307               286.581318   \n",
       "4  GradientBoostingRegressor      0.906585               412.226055   \n",
       "5      DecisionTreeRegressor      0.857115               321.056859   \n",
       "6        KNeighborsRegressor      0.615710               562.360289   \n",
       "7           Ridge Regression      0.389286              1012.767163   \n",
       "8           Lasso Regression      0.388550              1017.265693   \n",
       "9           LinearRegression      0.388423              1017.612340   \n",
       "\n",
       "   Root_Mean_Squared_Error_RMSE  Mean_Absolute_Percentage_Error_MAPE  \\\n",
       "0                    394.072972                             9.111512   \n",
       "1                    492.664688                            10.439813   \n",
       "2                    519.533490                            11.277548   \n",
       "3                    519.990433                            11.061807   \n",
       "4                    620.074859                            19.305657   \n",
       "5                    766.880575                            12.039672   \n",
       "6                   1257.663090                            19.214741   \n",
       "7                   1585.454278                            46.042260   \n",
       "8                   1586.410403                            46.394091   \n",
       "9                   1586.574665                            46.416187   \n",
       "\n",
       "   Mean_Squared_Error_MSE  Root_Mean_Squared_Log_Error_RMSLE  R2_score  \n",
       "0            1.552935e+05                           5.976536  0.962536  \n",
       "1            2.427185e+05                           6.199829  0.941446  \n",
       "2            2.699150e+05                           6.252931  0.934885  \n",
       "3            2.703901e+05                           6.253810  0.934770  \n",
       "4            3.844928e+05                           6.429840  0.907244  \n",
       "5            5.881058e+05                           6.642331  0.858123  \n",
       "6            1.581716e+06                           7.137011  0.618421  \n",
       "7            2.513665e+06                           7.368626  0.393594  \n",
       "8            2.516698e+06                           7.369229  0.392863  \n",
       "9            2.517219e+06                           7.369333  0.392737  "
      ]
     },
     "execution_count": 25,
     "metadata": {},
     "output_type": "execute_result"
    }
   ],
   "source": [
    "models=['LinearRegression','DecisionTreeRegressor','RandomForestRegressor','KNeighborsRegressor','ExtraTreesRegressor','GradientBoostingRegressor','XGBRegressor','BaggingRegressor','Ridge Regression','Lasso Regression']\n",
    "result=pd.DataFrame({'Model_Name':models})\n",
    "result['Adj_R_Square']=Results['Adj_R_Square']\n",
    "result['Mean_Absolute_Error_MAE']=Results['Mean_Absolute_Error_MAE']\n",
    "result['Root_Mean_Squared_Error_RMSE']=Results['Root_Mean_Squared_Error_RMSE']\n",
    "result['Mean_Absolute_Percentage_Error_MAPE']=Results['Mean_Absolute_Percentage_Error_MAPE']\n",
    "result['Mean_Squared_Error_MSE']=Results['Mean_Squared_Error_MSE']\n",
    "result['Root_Mean_Squared_Log_Error_RMSLE']=Results['Root_Mean_Squared_Log_Error_RMSLE']\n",
    "result['R2_score']=Results['R2_score']\n",
    "result=result.sort_values(by='Adj_R_Square',ascending=False).reset_index(drop=True)\n",
    "result"
   ]
  },
  {
   "cell_type": "markdown",
   "id": "da339725",
   "metadata": {},
   "source": [
    "# From the Above Results, The Top 3 Models by comparing Errors , Adj_R_Square and R2_Score values are\n",
    "1. ExtraTreesRegressor 2. RandomForestRegressor 3. XGBRegressor"
   ]
  },
  {
   "cell_type": "markdown",
   "id": "401fe6e6",
   "metadata": {},
   "source": [
    "# Occasion Prediction"
   ]
  },
  {
   "cell_type": "code",
   "execution_count": 27,
   "id": "4a6e8880",
   "metadata": {},
   "outputs": [],
   "source": [
    "# storing the Dependent Variables in X and Independent Variable in Y\n",
    "x_class=table_df.drop(['Occasion'],axis=1)\n",
    "y_class=table_df['Occasion']\n",
    "x_class_train,x_class_test,y_class_train,y_class_test=train_test_split(x_class,y_class,test_size=0.30,random_state=42)"
   ]
  },
  {
   "cell_type": "code",
   "execution_count": 28,
   "id": "36f924f2",
   "metadata": {},
   "outputs": [],
   "source": [
    "# Scaling the values to convert the int values to Machine Languages\n",
    "from sklearn.preprocessing import MinMaxScaler\n",
    "mmscaler=MinMaxScaler(feature_range=(0,1))\n",
    "x_class_train=mmscaler.fit_transform(x_class_train)\n",
    "x_class_test=mmscaler.fit_transform(x_class_test)\n",
    "x_class_train=pd.DataFrame(x_class_train)\n",
    "x_class_test=pd.DataFrame(x_class_test) "
   ]
  },
  {
   "cell_type": "code",
   "execution_count": 29,
   "id": "3f116980",
   "metadata": {},
   "outputs": [
    {
     "data": {
      "text/html": [
       "<div>\n",
       "<style scoped>\n",
       "    .dataframe tbody tr th:only-of-type {\n",
       "        vertical-align: middle;\n",
       "    }\n",
       "\n",
       "    .dataframe tbody tr th {\n",
       "        vertical-align: top;\n",
       "    }\n",
       "\n",
       "    .dataframe thead th {\n",
       "        text-align: right;\n",
       "    }\n",
       "</style>\n",
       "<table border=\"1\" class=\"dataframe\">\n",
       "  <thead>\n",
       "    <tr style=\"text-align: right;\">\n",
       "      <th></th>\n",
       "      <th>Model Name</th>\n",
       "      <th>Accuracy Score</th>\n",
       "      <th>Precision Score</th>\n",
       "      <th>Recall Score</th>\n",
       "      <th>F1 Score</th>\n",
       "    </tr>\n",
       "  </thead>\n",
       "  <tbody>\n",
       "  </tbody>\n",
       "</table>\n",
       "</div>"
      ],
      "text/plain": [
       "Empty DataFrame\n",
       "Columns: [Model Name, Accuracy Score, Precision Score, Recall Score, F1 Score]\n",
       "Index: []"
      ]
     },
     "execution_count": 29,
     "metadata": {},
     "output_type": "execute_result"
    }
   ],
   "source": [
    "a_class={'Model Name':[], 'Accuracy Score':[] ,'Precision Score':[] ,'Recall Score':[] ,'F1 Score':[]}\n",
    "Results_class=pd.DataFrame(a_class)\n",
    "Results_class.head()"
   ]
  },
  {
   "cell_type": "code",
   "execution_count": 30,
   "id": "2cdff553",
   "metadata": {},
   "outputs": [],
   "source": [
    "# Create objects of Regression / Regressor models with default hyper-parameters\n",
    "\n",
    "modellog = LogisticRegression()\n",
    "modeldtc = DecisionTreeClassifier()\n",
    "modelbagc = BaggingClassifier()\n",
    "modelrfc = RandomForestClassifier()\n",
    "# modelSVC = SVC()\n",
    "# modelXGC = xgb.XGBClassifier()\n",
    "modelKNNC = KNeighborsClassifier(n_neighbors=5)\n",
    "modelETC = ExtraTreesClassifier()\n",
    "\n",
    "modelGBC = GradientBoostingClassifier(loss='log_loss', learning_rate=0.1, n_estimators=100, subsample=1.0,\n",
    "                                     criterion='friedman_mse', min_samples_split=2, min_samples_leaf=1,\n",
    "                                     min_weight_fraction_leaf=0.0, max_depth=3, min_impurity_decrease=0.0,\n",
    "                                     init=None, random_state=None, max_features=None, verbose=0, max_leaf_nodes=None, warm_start=False,\n",
    "                                     validation_fraction=0.1, n_iter_no_change=None, tol=0.0001, ccp_alpha=0.0)"
   ]
  },
  {
   "cell_type": "code",
   "execution_count": 31,
   "id": "44b7ca53",
   "metadata": {},
   "outputs": [
    {
     "name": "stdout",
     "output_type": "stream",
     "text": [
      "LogisticRegression()\n",
      "Model Name:  LogisticRegression()\n",
      "Accuracy Score: 0.996\n",
      "Precision Score: 0.993\n",
      "Recall Score: 0.996\n",
      "F1_Score: 0.994588\n",
      "------------------------------------------------------------------------------------------------------------\n",
      "DecisionTreeClassifier()\n",
      "Model Name:  DecisionTreeClassifier()\n",
      "Accuracy Score: 0.996\n",
      "Precision Score: 0.996\n",
      "Recall Score: 0.996\n",
      "F1_Score: 0.99639\n",
      "------------------------------------------------------------------------------------------------------------\n",
      "BaggingClassifier()\n",
      "Model Name:  BaggingClassifier()\n",
      "Accuracy Score: 0.996\n",
      "Precision Score: 0.996\n",
      "Recall Score: 0.996\n",
      "F1_Score: 0.99639\n",
      "------------------------------------------------------------------------------------------------------------\n",
      "RandomForestClassifier()\n",
      "Model Name:  RandomForestClassifier()\n",
      "Accuracy Score: 0.996\n",
      "Precision Score: 0.993\n",
      "Recall Score: 0.996\n",
      "F1_Score: 0.994588\n",
      "------------------------------------------------------------------------------------------------------------\n",
      "KNeighborsClassifier()\n",
      "Model Name:  KNeighborsClassifier()\n",
      "Accuracy Score: 0.996\n",
      "Precision Score: 0.993\n",
      "Recall Score: 0.996\n",
      "F1_Score: 0.994588\n",
      "------------------------------------------------------------------------------------------------------------\n",
      "ExtraTreesClassifier()\n",
      "Model Name:  ExtraTreesClassifier()\n",
      "Accuracy Score: 0.996\n",
      "Precision Score: 0.993\n",
      "Recall Score: 0.996\n",
      "F1_Score: 0.994588\n",
      "------------------------------------------------------------------------------------------------------------\n",
      "GradientBoostingClassifier()\n",
      "Model Name:  GradientBoostingClassifier()\n",
      "Accuracy Score: 0.995\n",
      "Precision Score: 0.996\n",
      "Recall Score: 0.995\n",
      "F1_Score: 0.995124\n",
      "------------------------------------------------------------------------------------------------------------\n"
     ]
    }
   ],
   "source": [
    "# Evalution matrix for all the algorithms\n",
    "\n",
    "MM = [modellog, modeldtc, modelbagc, modelrfc, modelKNNC, modelETC,modelGBC]\n",
    "\n",
    "for models in MM:\n",
    "    print(models)\n",
    "    # Fit the model with train data\n",
    "    \n",
    "    models.fit(x_class_train, y_class_train)\n",
    "    \n",
    "    # Predict the model with test data\n",
    "\n",
    "    y_class_pred = models.predict(x_class_test)\n",
    "    \n",
    "    # Print the model name\n",
    "    \n",
    "    print('Model Name: ', models)\n",
    "    \n",
    "    # Evaluation metrics for Regression analysis\n",
    "    from sklearn import metrics\n",
    "\n",
    "    print('Accuracy Score:', round(accuracy_score(y_class_test, y_class_pred),3))  \n",
    "    print('Precision Score:', round(precision_score(y_class_test, y_class_pred,average='weighted'),3))  \n",
    "    print('Recall Score:', round(recall_score(y_class_test, y_class_pred,average='weighted'),3))\n",
    "    print('F1_Score:', round(f1_score(y_class_test, y_class_pred,average='weighted'),6))\n",
    "#     print('Area Under Curve:', round(roc_auc_score(y_class_test, y_class_pred,multi_class='ovr'),3))\n",
    "    \n",
    "    print('------------------------------------------------------------------------------------------------------------')\n",
    "    new_row = {'Model Name' : models,\n",
    "               'Accuracy Score' : round(accuracy_score(y_class_test, y_class_pred),3),\n",
    "               'Precision Score' : round(precision_score(y_class_test, y_class_pred,average='weighted'),3),\n",
    "               'Recall Score' : round(recall_score(y_class_test, y_class_pred,average='weighted'),3),\n",
    "               'F1 Score' : round(f1_score(y_class_test, y_class_pred,average='weighted'),6)\n",
    "              }\n",
    "    Results_class = Results_class.append(new_row, ignore_index=True)\n",
    "    #------------------------------------------------------------"
   ]
  },
  {
   "cell_type": "code",
   "execution_count": 32,
   "id": "f48c72f4",
   "metadata": {},
   "outputs": [
    {
     "data": {
      "text/html": [
       "<div>\n",
       "<style scoped>\n",
       "    .dataframe tbody tr th:only-of-type {\n",
       "        vertical-align: middle;\n",
       "    }\n",
       "\n",
       "    .dataframe tbody tr th {\n",
       "        vertical-align: top;\n",
       "    }\n",
       "\n",
       "    .dataframe thead th {\n",
       "        text-align: right;\n",
       "    }\n",
       "</style>\n",
       "<table border=\"1\" class=\"dataframe\">\n",
       "  <thead>\n",
       "    <tr style=\"text-align: right;\">\n",
       "      <th></th>\n",
       "      <th>Model_Name</th>\n",
       "      <th>Accuracy Score</th>\n",
       "      <th>Recall Score</th>\n",
       "      <th>Precision Score</th>\n",
       "      <th>F1 Score</th>\n",
       "    </tr>\n",
       "  </thead>\n",
       "  <tbody>\n",
       "    <tr>\n",
       "      <th>0</th>\n",
       "      <td>DecisionTreeClassifier</td>\n",
       "      <td>0.996</td>\n",
       "      <td>0.996</td>\n",
       "      <td>0.996</td>\n",
       "      <td>0.996390</td>\n",
       "    </tr>\n",
       "    <tr>\n",
       "      <th>1</th>\n",
       "      <td>BaggingClassifier</td>\n",
       "      <td>0.996</td>\n",
       "      <td>0.996</td>\n",
       "      <td>0.996</td>\n",
       "      <td>0.996390</td>\n",
       "    </tr>\n",
       "    <tr>\n",
       "      <th>2</th>\n",
       "      <td>GradientBoostingClassifier</td>\n",
       "      <td>0.995</td>\n",
       "      <td>0.995</td>\n",
       "      <td>0.996</td>\n",
       "      <td>0.995124</td>\n",
       "    </tr>\n",
       "    <tr>\n",
       "      <th>3</th>\n",
       "      <td>LogisticRegression</td>\n",
       "      <td>0.996</td>\n",
       "      <td>0.996</td>\n",
       "      <td>0.993</td>\n",
       "      <td>0.994588</td>\n",
       "    </tr>\n",
       "    <tr>\n",
       "      <th>4</th>\n",
       "      <td>RandomForestClassifier</td>\n",
       "      <td>0.996</td>\n",
       "      <td>0.996</td>\n",
       "      <td>0.993</td>\n",
       "      <td>0.994588</td>\n",
       "    </tr>\n",
       "    <tr>\n",
       "      <th>5</th>\n",
       "      <td>KNeighborsClassifier</td>\n",
       "      <td>0.996</td>\n",
       "      <td>0.996</td>\n",
       "      <td>0.993</td>\n",
       "      <td>0.994588</td>\n",
       "    </tr>\n",
       "    <tr>\n",
       "      <th>6</th>\n",
       "      <td>ExtraTreesRegressor</td>\n",
       "      <td>0.996</td>\n",
       "      <td>0.996</td>\n",
       "      <td>0.993</td>\n",
       "      <td>0.994588</td>\n",
       "    </tr>\n",
       "  </tbody>\n",
       "</table>\n",
       "</div>"
      ],
      "text/plain": [
       "                   Model_Name  Accuracy Score  Recall Score  Precision Score  \\\n",
       "0      DecisionTreeClassifier           0.996         0.996            0.996   \n",
       "1           BaggingClassifier           0.996         0.996            0.996   \n",
       "2  GradientBoostingClassifier           0.995         0.995            0.996   \n",
       "3          LogisticRegression           0.996         0.996            0.993   \n",
       "4      RandomForestClassifier           0.996         0.996            0.993   \n",
       "5        KNeighborsClassifier           0.996         0.996            0.993   \n",
       "6         ExtraTreesRegressor           0.996         0.996            0.993   \n",
       "\n",
       "   F1 Score  \n",
       "0  0.996390  \n",
       "1  0.996390  \n",
       "2  0.995124  \n",
       "3  0.994588  \n",
       "4  0.994588  \n",
       "5  0.994588  \n",
       "6  0.994588  "
      ]
     },
     "execution_count": 32,
     "metadata": {},
     "output_type": "execute_result"
    }
   ],
   "source": [
    "models=['LogisticRegression','DecisionTreeClassifier','BaggingClassifier','RandomForestClassifier','KNeighborsClassifier','ExtraTreesRegressor','GradientBoostingClassifier']\n",
    "result_class=pd.DataFrame({'Model_Name':models})\n",
    "result_class['Accuracy Score']=Results_class['Accuracy Score']\n",
    "result_class['Recall Score']=Results_class['Recall Score']\n",
    "result_class['Precision Score']=Results_class['Precision Score']\n",
    "result_class['F1 Score']=Results_class['F1 Score']\n",
    "result_class=result_class.sort_values(by='F1 Score',ascending=False).reset_index(drop=True)\n",
    "result_class"
   ]
  },
  {
   "cell_type": "markdown",
   "id": "07c0b1ea",
   "metadata": {},
   "source": [
    "# Decision Tree Classifier is the best model for classification."
   ]
  }
 ],
 "metadata": {
  "kernelspec": {
   "display_name": "Python 3 (ipykernel)",
   "language": "python",
   "name": "python3"
  },
  "language_info": {
   "codemirror_mode": {
    "name": "ipython",
    "version": 3
   },
   "file_extension": ".py",
   "mimetype": "text/x-python",
   "name": "python",
   "nbconvert_exporter": "python",
   "pygments_lexer": "ipython3",
   "version": "3.10.9"
  }
 },
 "nbformat": 4,
 "nbformat_minor": 5
}
